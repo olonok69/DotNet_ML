{
 "cells": [
  {
   "cell_type": "code",
   "execution_count": 22,
   "id": "e8b4c24a-f3bd-4f17-9b0e-48c9453f06eb",
   "metadata": {},
   "outputs": [
    {
     "name": "stdout",
     "output_type": "stream",
     "text": [
      "Audio uploaded and processed successfully!\n",
      "{'message': 'Audio transcribed.', 'transcription': '00:00:00->00:00:07.0400000:  I believe that this nation should commit itself to achieving the goal before this decade is out\\n00:00:07.0400000->00:00:11.8400000:  of landing a man on the moon and returning him safely to the earth.\\n00:00:11.8400000->00:00:21.0400000:  No single space project in this period will be more impressive to mankind or more important for the long range exploration of space.\\n', 'executionTimeMs': 1760}\n",
      "TextFilePath not found in the JSON response.\n"
     ]
    }
   ],
   "source": [
    "import requests\n",
    "import os\n",
    "\n",
    "url = \"http://localhost:8899/api/audio/upload\"  # Your API endpoint\n",
    "audio_file_path = \"dotnet/whispher_net/kennedy.wav\"  # Replace with the actual path\n",
    "# audio_file_path = \"Spanish.m4a\"\n",
    "# audio_file_path = \"chinese.mp3\"\n",
    "translate = True\n",
    "params = {'translate': str(translate).lower()}\n",
    "# Check if the file exists before attempting to open it\n",
    "if not os.path.exists(audio_file_path):\n",
    "    print(f\"Error: Audio file not found at {audio_file_path}\")\n",
    "    exit()  # Or handle the error as needed\n",
    "\n",
    "try:\n",
    "    with open(audio_file_path, \"rb\") as audio_file:\n",
    "        files = {\"audioFile\": (audio_file.name, audio_file, \"audio/mpeg\")}  # Adjust content type if needed\n",
    "\n",
    "        response = requests.post(url, files=files, params=params)\n",
    "\n",
    "    if response.status_code == 200:\n",
    "        print(\"Audio uploaded and processed successfully!\")\n",
    "        json_response = response.json()\n",
    "        print(json_response)  # Print the JSON response (including the text file path)\n",
    "\n",
    "        # Download the transcribed text file (example)\n",
    "        text_file_path = json_response.get(\"TextFilePath\")  # Extract the path from the JSON\n",
    "        if text_file_path:\n",
    "            try:\n",
    "                # Assuming the text file is served from the same base URL\n",
    "                text_file_url = \"http://localhost:8899\" + text_file_path.replace(\"\\\\\", \"/\") # Correct path for URL.\n",
    "                text_response = requests.get(text_file_url)\n",
    "                if text_response.status_code == 200:\n",
    "                    transcribed_text = text_response.text\n",
    "                    print(\"\\nTranscribed Text:\\n\", transcribed_text)\n",
    "                    # Save to a local file (optional)\n",
    "                    # with open(\"transcribed_audio.txt\", \"w\") as f:\n",
    "                    #     f.write(transcribed_text)\n",
    "                else:\n",
    "                    print(f\"Error downloading text file: {text_response.status_code}\")\n",
    "                    print(text_response.text)\n",
    "            except requests.exceptions.RequestException as e:\n",
    "                print(f\"Error downloading text file: {e}\")\n",
    "\n",
    "        else:\n",
    "            print(\"TextFilePath not found in the JSON response.\")\n",
    "\n",
    "    else:\n",
    "        print(f\"Error uploading audio: {response.status_code}\")\n",
    "        print(response.text)  # Print the error message from the server\n",
    "\n",
    "except requests.exceptions.RequestException as e:\n",
    "    print(f\"Error connecting to the API: {e}\")"
   ]
  },
  {
   "cell_type": "code",
   "execution_count": 23,
   "id": "efbd6697-deff-4139-978c-b2092f965062",
   "metadata": {},
   "outputs": [
    {
     "name": "stdout",
     "output_type": "stream",
     "text": [
      "00:00:00->00:00:07.0400000:  I believe that this nation should commit itself to achieving the goal before this decade is out\n",
      "00:00:07.0400000->00:00:11.8400000:  of landing a man on the moon and returning him safely to the earth.\n",
      "00:00:11.8400000->00:00:21.0400000:  No single space project in this period will be more impressive to mankind or more important for the long range exploration of space.\n",
      "\n"
     ]
    }
   ],
   "source": [
    "print(json_response['transcription'])"
   ]
  },
  {
   "cell_type": "code",
   "execution_count": 24,
   "id": "1cbda24f-acc0-41ba-9981-13b79ee393d6",
   "metadata": {},
   "outputs": [
    {
     "name": "stdout",
     "output_type": "stream",
     "text": [
      "1760\n"
     ]
    }
   ],
   "source": [
    "print(json_response['executionTimeMs'])"
   ]
  },
  {
   "cell_type": "code",
   "execution_count": null,
   "id": "f72cb75b-cf25-4176-bbdf-afe98c9427a8",
   "metadata": {},
   "outputs": [],
   "source": []
  }
 ],
 "metadata": {
  "kernelspec": {
   "display_name": "Python (google)",
   "language": "python",
   "name": "google"
  },
  "language_info": {
   "codemirror_mode": {
    "name": "ipython",
    "version": 3
   },
   "file_extension": ".py",
   "mimetype": "text/x-python",
   "name": "python",
   "nbconvert_exporter": "python",
   "pygments_lexer": "ipython3",
   "version": "3.11.9"
  }
 },
 "nbformat": 4,
 "nbformat_minor": 5
}
